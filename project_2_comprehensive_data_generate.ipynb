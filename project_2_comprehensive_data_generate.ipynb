{
 "cells": [
  {
   "cell_type": "code",
   "execution_count": null,
   "metadata": {},
   "outputs": [],
   "source": [
    "import csv\n",
    "import pandas as pd\n",
    "import matplotlib.pyplot as plt\n",
    "import seaborn as sns\n",
    "from matplotlib.ticker import (MultipleLocator,FormatStrFormatter, AutoMinorLocator)\n",
    "pd.set_option('display.max_rows', None)\n",
    "pd.set_option('display.max_columns', None)\n"
   ]
  },
  {
   "cell_type": "code",
   "execution_count": null,
   "metadata": {},
   "outputs": [],
   "source": [
    "# load the Per Game Stats of NBA Players\n",
    "Playerstats = pd.read_csv('source_data/NBA_Player_Stats_20-21.csv',  encoding=\"utf-8\")\n",
    "Playerstats['Player'] = Playerstats['Player'].apply(lambda x : x.split(\"\\\\\")[0])\n",
    "Tm = Playerstats.pop('Tm')\n",
    "Playerstats.insert(2, 'Tm', Tm)\n",
    "Playerstats = Playerstats.drop(['Rk'], axis = 1)\n",
    "Playerstats"
   ]
  },
  {
   "cell_type": "code",
   "execution_count": null,
   "metadata": {},
   "outputs": [],
   "source": [
    "# load the Salary of NBA Players\n",
    "PlayerSalary =  pd.read_csv('source_data/NBA_Player_Salary_20-21.txt', encoding=\"utf-8\")\n",
    "PlayerSalary['Player'] = PlayerSalary['Player'].apply(lambda x : x.split(\"\\\\\")[0])\n",
    "PlayerSalary = PlayerSalary[PlayerSalary['Salary'].notnull()]\n",
    "PlayerSalary = PlayerSalary.drop(['Rk'], axis = 1)\n",
    "PlayerSalary\n"
   ]
  },
  {
   "cell_type": "code",
   "execution_count": null,
   "metadata": {},
   "outputs": [],
   "source": [
    "# load the Advanced Stats of NBA Players\n",
    "PlayerAdvanced =  pd.read_csv('source_data/NBA_Player_Advanced_20-21.csv', encoding=\"utf-8\")\n",
    "PlayerAdvanced['Player'] = PlayerAdvanced['Player'].apply(lambda x : x.split(\"\\\\\")[0])\n",
    "Tm = PlayerAdvanced.pop('Tm')\n",
    "PlayerAdvanced.insert(2, 'Tm', Tm)\n",
    "PlayerAdvanced = PlayerAdvanced.drop(['Rk', 'MP', 'G', 'Pos', 'Age', 'Unnamed: 19'], axis = 1)\n",
    "PlayerAdvanced"
   ]
  },
  {
   "cell_type": "code",
   "execution_count": null,
   "metadata": {},
   "outputs": [],
   "source": [
    "# join the three datasets above with the order as Salary dataset + Stats dataset + Advanced dataset\n",
    "Player_Salary_Stats = PlayerSalary.join(Playerstats.set_index(['Player', 'Tm']), on=['Player', 'Tm'])\n",
    "Player_Salary_Stats\n",
    "Player_Salary_Stats_Advanced = Player_Salary_Stats.join(PlayerAdvanced.set_index(['Player', 'Tm']), on=['Player', 'Tm'])\n",
    "# make the data in Salary column from string to int\n",
    "Player_Salary_Stats_Advanced['Salary'] = Player_Salary_Stats_Advanced['Salary'].str.replace(r\"$\", \"\").astype(int)\n",
    "Player_Salary_Stats_Advanced = Player_Salary_Stats_Advanced[Player_Salary_Stats_Advanced['PER'].notnull()]\n",
    "Player_Salary_Stats_Advanced.reset_index(drop=True)\n",
    "Player_Salary_Stats_Advanced.to_csv('NBA_Player_data_comprehensive.csv', index=False)"
   ]
  },
  {
   "cell_type": "code",
   "execution_count": 19,
   "metadata": {
    "scrolled": true
   },
   "outputs": [],
   "source": [
    "# adding Team abbreviations to Team_records.csv\n",
    "\n",
    "team_abb = {'Atlanta Hawks': 'ATL', 'Brooklyn Nets': 'BRK', 'Boston Celtics': 'BOS', 'Charlotte Hornets': 'CHA',\n",
    "           'Chicago Bulls': 'CHI', 'Cleveland Cavaliers': 'CLE', 'Dallas Mavericks': 'DAL',\n",
    "           'Denver Nuggets': 'DEN', 'Detroit Pistons': 'DET', 'Golden State Warriors': 'GSW',\n",
    "           'Houston Rockets': 'HOU', 'Indiana Pacers': 'IND', 'Los Angeles Clippers': 'LAC',\n",
    "           'Los Angeles Lakers': 'LAL', 'Memphis Grizzlies': 'MEM', 'Miami Heat': 'MIA',\n",
    "           'Milwaukee Bucks': 'MIL', 'Minnesota Timberwolves': 'MIN', 'New Orleans Pelicans': 'NOP',\n",
    "           'New York Knicks': 'NYK', 'Oklahoma City Thunder': 'OKC', 'Orlando Magic': 'ORL',\n",
    "           'Philadelphia 76ers': 'PHI', 'Phoenix Suns': 'PHX', 'Portland Trail Blazers': 'POR',\n",
    "           'Sacramento Kings': 'SAC', 'San Antonio Spurs': 'SAS', 'Toronto Raptors': 'TOR',\n",
    "           'Utah Jazz': 'UTA', 'Washington Wizards': 'WAS'}\n",
    "\n",
    "record = pd.read_csv('source_data/Team_records.csv', encoding = 'utf-8')\n",
    "record = record.rename(columns = {'Unnamed: 0': 'Rk', 'Unnamed: 1': 'Team', 'Unnamed: 2': 'Overall'})\n",
    "record = record.drop([0,1])\n",
    "record = record.reset_index().drop('index', axis = 1)\n",
    "\n",
    "record['Team_abb'] = ''\n",
    "\n",
    "for i in range(record.shape[0]):\n",
    "    record['Team_abb'][i] = team_abb[record['Team'][i]]\n",
    "\n",
    "# rearrange the columns\n",
    "record = record[['Rk','Team','Team_abb','Overall']]\n",
    "\n",
    "# fix the Timberwolves record\n",
    "record.iloc[29,3] = '11-36'\n",
    "\n",
    "# add the win percentage column\n",
    "record['Win%'] = ''\n",
    "for i in range(record.shape[0]):\n",
    "    record_list = record.iloc[i,3].split('-')\n",
    "    record.iloc[i,4] = int(record_list[0]) / (int(record_list[0]) + int(record_list[1]))\n",
    "\n",
    "record.to_csv('team_record_comprehensive.csv', index=False)"
   ]
  }
 ],
 "metadata": {
  "kernelspec": {
   "display_name": "Python 3",
   "language": "python",
   "name": "python3"
  },
  "language_info": {
   "codemirror_mode": {
    "name": "ipython",
    "version": 3
   },
   "file_extension": ".py",
   "mimetype": "text/x-python",
   "name": "python",
   "nbconvert_exporter": "python",
   "pygments_lexer": "ipython3",
   "version": "3.8.5"
  }
 },
 "nbformat": 4,
 "nbformat_minor": 4
}
